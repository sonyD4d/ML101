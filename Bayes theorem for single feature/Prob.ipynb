{
 "cells": [
  {
   "cell_type": "markdown",
   "metadata": {},
   "source": [
    "<u><b> Posterior probability </b></u>"
   ]
  },
  {
   "cell_type": "markdown",
   "metadata": {},
   "source": [
    "## Data"
   ]
  },
  {
   "cell_type": "code",
   "execution_count": 2,
   "metadata": {},
   "outputs": [
    {
     "data": {
      "text/plain": [
       "'\\n    NO -> No damages in engine\\n    YES -> Failure \\n    DMG -> some damage but not failure  \\n'"
      ]
     },
     "execution_count": 2,
     "metadata": {},
     "output_type": "execute_result"
    }
   ],
   "source": [
    "import pandas as pd\n",
    "prob_table = pd.read_csv('prob.csv')\n",
    "'''\n",
    "    NO -> No damages in engine\n",
    "    YES -> Failure \n",
    "    DMG -> some damage but not failure  \n",
    "'''"
   ]
  },
  {
   "cell_type": "code",
   "execution_count": 3,
   "metadata": {},
   "outputs": [
    {
     "data": {
      "text/html": [
       "<div>\n",
       "<style scoped>\n",
       "    .dataframe tbody tr th:only-of-type {\n",
       "        vertical-align: middle;\n",
       "    }\n",
       "\n",
       "    .dataframe tbody tr th {\n",
       "        vertical-align: top;\n",
       "    }\n",
       "\n",
       "    .dataframe thead th {\n",
       "        text-align: right;\n",
       "    }\n",
       "</style>\n",
       "<table border=\"1\" class=\"dataframe\">\n",
       "  <thead>\n",
       "    <tr style=\"text-align: right;\">\n",
       "      <th></th>\n",
       "      <th>Company</th>\n",
       "      <th>Engine status</th>\n",
       "    </tr>\n",
       "  </thead>\n",
       "  <tbody>\n",
       "    <tr>\n",
       "      <th>0</th>\n",
       "      <td>A</td>\n",
       "      <td>NO</td>\n",
       "    </tr>\n",
       "    <tr>\n",
       "      <th>1</th>\n",
       "      <td>A</td>\n",
       "      <td>NO</td>\n",
       "    </tr>\n",
       "    <tr>\n",
       "      <th>2</th>\n",
       "      <td>B</td>\n",
       "      <td>DMG</td>\n",
       "    </tr>\n",
       "    <tr>\n",
       "      <th>3</th>\n",
       "      <td>B</td>\n",
       "      <td>NO</td>\n",
       "    </tr>\n",
       "    <tr>\n",
       "      <th>4</th>\n",
       "      <td>B</td>\n",
       "      <td>DMG</td>\n",
       "    </tr>\n",
       "    <tr>\n",
       "      <th>5</th>\n",
       "      <td>C</td>\n",
       "      <td>YES</td>\n",
       "    </tr>\n",
       "    <tr>\n",
       "      <th>6</th>\n",
       "      <td>C</td>\n",
       "      <td>YES</td>\n",
       "    </tr>\n",
       "    <tr>\n",
       "      <th>7</th>\n",
       "      <td>C</td>\n",
       "      <td>YES</td>\n",
       "    </tr>\n",
       "    <tr>\n",
       "      <th>8</th>\n",
       "      <td>A</td>\n",
       "      <td>DMG</td>\n",
       "    </tr>\n",
       "    <tr>\n",
       "      <th>9</th>\n",
       "      <td>C</td>\n",
       "      <td>DMG</td>\n",
       "    </tr>\n",
       "    <tr>\n",
       "      <th>10</th>\n",
       "      <td>B</td>\n",
       "      <td>YES</td>\n",
       "    </tr>\n",
       "  </tbody>\n",
       "</table>\n",
       "</div>"
      ],
      "text/plain": [
       "   Company Engine status\n",
       "0        A            NO\n",
       "1        A            NO\n",
       "2        B           DMG\n",
       "3        B            NO\n",
       "4        B           DMG\n",
       "5        C           YES\n",
       "6        C           YES\n",
       "7        C           YES\n",
       "8        A           DMG\n",
       "9        C           DMG\n",
       "10       B           YES"
      ]
     },
     "execution_count": 3,
     "metadata": {},
     "output_type": "execute_result"
    }
   ],
   "source": [
    "prob_table"
   ]
  },
  {
   "cell_type": "markdown",
   "metadata": {},
   "source": [
    "## Identifying class and features"
   ]
  },
  {
   "cell_type": "code",
   "execution_count": 2,
   "metadata": {},
   "outputs": [
    {
     "name": "stdout",
     "output_type": "stream",
     "text": [
      "Class : ['NO', 'YES', 'DMG']\n",
      "Features :  ['A', 'C', 'B']\n"
     ]
    }
   ],
   "source": [
    "record_count = prob_table.shape[0]\n",
    "class_list = list(prob_table[prob_table.columns[1]])\n",
    "feature_list = list(prob_table[prob_table.columns[0]])\n",
    "class_set = list(set(class_list))\n",
    "feature_set = list(set(feature_list))\n",
    "print( \"Class : \" + str(class_set) )\n",
    "print( \"Features :  \" + str(feature_set) )"
   ]
  },
  {
   "cell_type": "markdown",
   "metadata": {},
   "source": [
    "## Formula"
   ]
  },
  {
   "cell_type": "markdown",
   "metadata": {},
   "source": [
    "    p(feature/class) = p(class/feature)*p(feature)\n",
    "                       ---------------------------\n",
    "                               p(class)"
   ]
  },
  {
   "cell_type": "markdown",
   "metadata": {},
   "source": [
    "### p(class)"
   ]
  },
  {
   "cell_type": "code",
   "execution_count": 3,
   "metadata": {},
   "outputs": [
    {
     "data": {
      "text/plain": [
       "{'NO': 0.2727272727272727,\n",
       " 'YES': 0.36363636363636365,\n",
       " 'DMG': 0.36363636363636365}"
      ]
     },
     "execution_count": 3,
     "metadata": {},
     "output_type": "execute_result"
    }
   ],
   "source": [
    "class_probability = dict()\n",
    "for c in class_set:\n",
    "    count = list(class_list).count(c)\n",
    "    class_probability[c] = (count/record_count)\n",
    "class_probability"
   ]
  },
  {
   "cell_type": "markdown",
   "metadata": {},
   "source": [
    "### p(feature)"
   ]
  },
  {
   "cell_type": "code",
   "execution_count": 4,
   "metadata": {},
   "outputs": [
    {
     "data": {
      "text/plain": [
       "{'A': 0.2727272727272727, 'C': 0.36363636363636365, 'B': 0.36363636363636365}"
      ]
     },
     "execution_count": 4,
     "metadata": {},
     "output_type": "execute_result"
    }
   ],
   "source": [
    "feature_probability = dict()\n",
    "for f in feature_set:\n",
    "    count = list(feature_list).count(f)\n",
    "    feature_probability[f] = (count/record_count)\n",
    "feature_probability"
   ]
  },
  {
   "cell_type": "markdown",
   "metadata": {},
   "source": [
    "### p(class/feature)"
   ]
  },
  {
   "cell_type": "code",
   "execution_count": 5,
   "metadata": {},
   "outputs": [
    {
     "data": {
      "text/plain": [
       "{'NO/A': 0.6666666666666666,\n",
       " 'NO/C': 0.0,\n",
       " 'NO/B': 0.25,\n",
       " 'YES/A': 0.0,\n",
       " 'YES/C': 0.75,\n",
       " 'YES/B': 0.25,\n",
       " 'DMG/A': 0.3333333333333333,\n",
       " 'DMG/C': 0.25,\n",
       " 'DMG/B': 0.5}"
      ]
     },
     "execution_count": 5,
     "metadata": {},
     "output_type": "execute_result"
    }
   ],
   "source": [
    "cf_probability = dict()\n",
    "for c in class_set:\n",
    "    for f in feature_set:\n",
    "        cf_conut = 0\n",
    "        for i in range(record_count):\n",
    "            if( class_list[i] == c and feature_list[i] == f ):\n",
    "                    cf_conut += 1  \n",
    "        cf_probability[str(c)+'/'+str(f)] = cf_conut/feature_list.count(f)\n",
    "cf_probability"
   ]
  },
  {
   "cell_type": "markdown",
   "metadata": {},
   "source": [
    "### p(feature/class)"
   ]
  },
  {
   "cell_type": "code",
   "execution_count": 6,
   "metadata": {
    "scrolled": true
   },
   "outputs": [
    {
     "data": {
      "text/plain": [
       "{'A/NO': 0.6666666666666666,\n",
       " 'A/YES': 0.0,\n",
       " 'A/DMG': 0.24999999999999997,\n",
       " 'C/NO': 0.0,\n",
       " 'C/YES': 0.7499999999999999,\n",
       " 'C/DMG': 0.25,\n",
       " 'B/NO': 0.33333333333333337,\n",
       " 'B/YES': 0.25,\n",
       " 'B/DMG': 0.5}"
      ]
     },
     "execution_count": 6,
     "metadata": {},
     "output_type": "execute_result"
    }
   ],
   "source": [
    "fc_probability = dict()\n",
    "for f in feature_set:\n",
    "    for c in class_set:\n",
    "        fc_probability[str(f)+'/'+str(c)] = ( (cf_probability[str(c)+'/'+str(f)]) * feature_probability[f] ) / class_probability[c]\n",
    "fc_probability    \n",
    "        "
   ]
  },
  {
   "cell_type": "code",
   "execution_count": 10,
   "metadata": {},
   "outputs": [
    {
     "name": "stdout",
     "output_type": "stream",
     "text": [
      "Company A Will result in : NO\n",
      "Company C Will result in : YES\n",
      "Company B Will result in : DMG\n"
     ]
    }
   ],
   "source": [
    "for f in feature_set:\n",
    "    max = -1\n",
    "    class_name = -1\n",
    "    feaature_name = -1\n",
    "    for c in class_set:\n",
    "        if(fc_probability[str(f)+'/'+str(c)]>max):\n",
    "            max = fc_probability[str(f)+'/'+str(c)]\n",
    "            class_name = c\n",
    "            feaature_name = f\n",
    "    print('Company ' + feaature_name+' Will result in : '+class_name)\n",
    "        "
   ]
  }
 ],
 "metadata": {
  "hide_input": false,
  "kernelspec": {
   "display_name": "Python 3",
   "language": "python",
   "name": "python3"
  },
  "language_info": {
   "codemirror_mode": {
    "name": "ipython",
    "version": 3
   },
   "file_extension": ".py",
   "mimetype": "text/x-python",
   "name": "python",
   "nbconvert_exporter": "python",
   "pygments_lexer": "ipython3",
   "version": "3.8.10"
  },
  "toc": {
   "base_numbering": 1,
   "nav_menu": {},
   "number_sections": true,
   "sideBar": true,
   "skip_h1_title": false,
   "title_cell": "Table of Contents",
   "title_sidebar": "Contents",
   "toc_cell": false,
   "toc_position": {},
   "toc_section_display": true,
   "toc_window_display": false
  },
  "varInspector": {
   "cols": {
    "lenName": 16,
    "lenType": 16,
    "lenVar": 40
   },
   "kernels_config": {
    "python": {
     "delete_cmd_postfix": "",
     "delete_cmd_prefix": "del ",
     "library": "var_list.py",
     "varRefreshCmd": "print(var_dic_list())"
    },
    "r": {
     "delete_cmd_postfix": ") ",
     "delete_cmd_prefix": "rm(",
     "library": "var_list.r",
     "varRefreshCmd": "cat(var_dic_list()) "
    }
   },
   "types_to_exclude": [
    "module",
    "function",
    "builtin_function_or_method",
    "instance",
    "_Feature"
   ],
   "window_display": false
  }
 },
 "nbformat": 4,
 "nbformat_minor": 4
}
