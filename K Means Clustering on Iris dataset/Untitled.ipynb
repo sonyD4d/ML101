{
 "cells": [
  {
   "cell_type": "code",
   "execution_count": 1,
   "id": "7c687f01",
   "metadata": {},
   "outputs": [],
   "source": [
    "import numpy as np\n",
    "import pandas as pd\n",
    "import matplotlib.pyplot as plt"
   ]
  },
  {
   "cell_type": "code",
   "execution_count": 2,
   "id": "7e036b33",
   "metadata": {},
   "outputs": [
    {
     "data": {
      "text/plain": [
       "(150, 6)"
      ]
     },
     "execution_count": 2,
     "metadata": {},
     "output_type": "execute_result"
    }
   ],
   "source": [
    "data = pd.read_csv('./Iris.csv')\n",
    "data.shape"
   ]
  },
  {
   "cell_type": "code",
   "execution_count": 3,
   "id": "aadb511a",
   "metadata": {
    "scrolled": true
   },
   "outputs": [
    {
     "data": {
      "text/html": [
       "<div>\n",
       "<style scoped>\n",
       "    .dataframe tbody tr th:only-of-type {\n",
       "        vertical-align: middle;\n",
       "    }\n",
       "\n",
       "    .dataframe tbody tr th {\n",
       "        vertical-align: top;\n",
       "    }\n",
       "\n",
       "    .dataframe thead th {\n",
       "        text-align: right;\n",
       "    }\n",
       "</style>\n",
       "<table border=\"1\" class=\"dataframe\">\n",
       "  <thead>\n",
       "    <tr style=\"text-align: right;\">\n",
       "      <th></th>\n",
       "      <th>Id</th>\n",
       "      <th>SepalLengthCm</th>\n",
       "      <th>SepalWidthCm</th>\n",
       "      <th>PetalLengthCm</th>\n",
       "      <th>PetalWidthCm</th>\n",
       "      <th>Species</th>\n",
       "    </tr>\n",
       "  </thead>\n",
       "  <tbody>\n",
       "    <tr>\n",
       "      <th>0</th>\n",
       "      <td>1</td>\n",
       "      <td>5.1</td>\n",
       "      <td>3.5</td>\n",
       "      <td>1.4</td>\n",
       "      <td>0.2</td>\n",
       "      <td>Iris-setosa</td>\n",
       "    </tr>\n",
       "    <tr>\n",
       "      <th>1</th>\n",
       "      <td>2</td>\n",
       "      <td>4.9</td>\n",
       "      <td>3.0</td>\n",
       "      <td>1.4</td>\n",
       "      <td>0.2</td>\n",
       "      <td>Iris-setosa</td>\n",
       "    </tr>\n",
       "    <tr>\n",
       "      <th>2</th>\n",
       "      <td>3</td>\n",
       "      <td>4.7</td>\n",
       "      <td>3.2</td>\n",
       "      <td>1.3</td>\n",
       "      <td>0.2</td>\n",
       "      <td>Iris-setosa</td>\n",
       "    </tr>\n",
       "    <tr>\n",
       "      <th>3</th>\n",
       "      <td>4</td>\n",
       "      <td>4.6</td>\n",
       "      <td>3.1</td>\n",
       "      <td>1.5</td>\n",
       "      <td>0.2</td>\n",
       "      <td>Iris-setosa</td>\n",
       "    </tr>\n",
       "    <tr>\n",
       "      <th>4</th>\n",
       "      <td>5</td>\n",
       "      <td>5.0</td>\n",
       "      <td>3.6</td>\n",
       "      <td>1.4</td>\n",
       "      <td>0.2</td>\n",
       "      <td>Iris-setosa</td>\n",
       "    </tr>\n",
       "    <tr>\n",
       "      <th>5</th>\n",
       "      <td>6</td>\n",
       "      <td>5.4</td>\n",
       "      <td>3.9</td>\n",
       "      <td>1.7</td>\n",
       "      <td>0.4</td>\n",
       "      <td>Iris-setosa</td>\n",
       "    </tr>\n",
       "    <tr>\n",
       "      <th>6</th>\n",
       "      <td>7</td>\n",
       "      <td>4.6</td>\n",
       "      <td>3.4</td>\n",
       "      <td>1.4</td>\n",
       "      <td>0.3</td>\n",
       "      <td>Iris-setosa</td>\n",
       "    </tr>\n",
       "    <tr>\n",
       "      <th>7</th>\n",
       "      <td>8</td>\n",
       "      <td>5.0</td>\n",
       "      <td>3.4</td>\n",
       "      <td>1.5</td>\n",
       "      <td>0.2</td>\n",
       "      <td>Iris-setosa</td>\n",
       "    </tr>\n",
       "    <tr>\n",
       "      <th>8</th>\n",
       "      <td>9</td>\n",
       "      <td>4.4</td>\n",
       "      <td>2.9</td>\n",
       "      <td>1.4</td>\n",
       "      <td>0.2</td>\n",
       "      <td>Iris-setosa</td>\n",
       "    </tr>\n",
       "    <tr>\n",
       "      <th>9</th>\n",
       "      <td>10</td>\n",
       "      <td>4.9</td>\n",
       "      <td>3.1</td>\n",
       "      <td>1.5</td>\n",
       "      <td>0.1</td>\n",
       "      <td>Iris-setosa</td>\n",
       "    </tr>\n",
       "  </tbody>\n",
       "</table>\n",
       "</div>"
      ],
      "text/plain": [
       "   Id  SepalLengthCm  SepalWidthCm  PetalLengthCm  PetalWidthCm      Species\n",
       "0   1            5.1           3.5            1.4           0.2  Iris-setosa\n",
       "1   2            4.9           3.0            1.4           0.2  Iris-setosa\n",
       "2   3            4.7           3.2            1.3           0.2  Iris-setosa\n",
       "3   4            4.6           3.1            1.5           0.2  Iris-setosa\n",
       "4   5            5.0           3.6            1.4           0.2  Iris-setosa\n",
       "5   6            5.4           3.9            1.7           0.4  Iris-setosa\n",
       "6   7            4.6           3.4            1.4           0.3  Iris-setosa\n",
       "7   8            5.0           3.4            1.5           0.2  Iris-setosa\n",
       "8   9            4.4           2.9            1.4           0.2  Iris-setosa\n",
       "9  10            4.9           3.1            1.5           0.1  Iris-setosa"
      ]
     },
     "execution_count": 3,
     "metadata": {},
     "output_type": "execute_result"
    }
   ],
   "source": [
    "data.head(10)"
   ]
  },
  {
   "cell_type": "code",
   "execution_count": 4,
   "id": "ba9be603-208f-4278-8d35-e6173de0debe",
   "metadata": {},
   "outputs": [],
   "source": [
    "x_petal = np.array(data.drop(['Id', 'PetalLengthCm', 'PetalWidthCm','Species'], axis=1))"
   ]
  },
  {
   "cell_type": "code",
   "execution_count": 5,
   "id": "6723b16c-6e65-4b12-94be-9138d58531d3",
   "metadata": {},
   "outputs": [],
   "source": [
    "import math\n",
    "def eucledian_dist(x1,x2):\n",
    "    return math.sqrt(sum((x1 - x2)**2))"
   ]
  },
  {
   "cell_type": "code",
   "execution_count": 25,
   "id": "be00f23b-b86e-4344-8ce7-87228559a378",
   "metadata": {},
   "outputs": [],
   "source": [
    "def KMean(x,k,max_itr):\n",
    "    centroids = np.zeros((k,x.shape[1]))\n",
    "    for i in range(k):\n",
    "        centroids[i] = x[np.random.choice(range(x.shape[0]))]\n",
    "        \n",
    "    for i in range(max_itr):\n",
    "        # Clusters\n",
    "        clusters = [[] for i in range(k)]\n",
    "        for point_i,point in enumerate(x):\n",
    "            d = list()\n",
    "            for c_i,c in enumerate(centroids):\n",
    "                d.append([eucledian_dist(point,c),c_i])\n",
    "            centroid = min(d)[1]\n",
    "            clusters[centroid].append(point_i)\n",
    "        # Mean\n",
    "        mean_centroids = np.zeros((k,x.shape[1]))\n",
    "        for cluster_i, cluster in enumerate(clusters):\n",
    "            mean_centroids[cluster_i] = np.mean(x[cluster], axis=0)\n",
    "        # Check old and new centroids\n",
    "        diff = mean_centroids - centroids\n",
    "        if not diff.any():\n",
    "            break\n",
    "        else:\n",
    "            centroids = mean_centroids\n",
    "    return clusters"
   ]
  },
  {
   "cell_type": "code",
   "execution_count": 26,
   "id": "265323f4-601d-44aa-b397-75d6f7f96b9f",
   "metadata": {},
   "outputs": [],
   "source": [
    "clusters = KMean(x_petal,3,100)"
   ]
  },
  {
   "cell_type": "code",
   "execution_count": 30,
   "id": "372a67d8-81c3-45de-bb82-6dc580596c9a",
   "metadata": {},
   "outputs": [
    {
     "data": {
      "text/plain": [
       "[Text(0.5, 1.0, 'Actual data'),\n",
       " Text(0, 0.5, 'Petal Width'),\n",
       " Text(0.5, 0, 'SPetal Length')]"
      ]
     },
     "execution_count": 30,
     "metadata": {},
     "output_type": "execute_result"
    },
    {
     "data": {
      "text/plain": [
       "<Figure size 432x288 with 0 Axes>"
      ]
     },
     "metadata": {},
     "output_type": "display_data"
    },
    {
     "data": {
      "image/png": "[encoded data removed]",
      "text/plain": [
       "<Figure size 1152x648 with 2 Axes>"
      ]
     },
     "metadata": {
      "needs_background": "light"
     },
     "output_type": "display_data"
    }
   ],
   "source": [
    "plt.figure()\n",
    "fig,ax=plt.subplots(1,2,figsize=(16, 9))\n",
    "\n",
    "ax[0].scatter(data['PetalLengthCm'][clusters[0]],data['PetalWidthCm'][clusters[0]])\n",
    "ax[0].scatter(data['PetalLengthCm'][clusters[1]],data['PetalWidthCm'][clusters[1]])\n",
    "ax[0].scatter(data['PetalLengthCm'][clusters[2]],data['PetalWidthCm'][clusters[2]])\n",
    "\n",
    "ax[1].scatter(data[data['Species']=='Iris-setosa']['PetalLengthCm'],data[data['Species']=='Iris-setosa']['PetalWidthCm'])\n",
    "ax[1].scatter(data[data['Species']=='Iris-versicolor']['PetalLengthCm'],data[data['Species']=='Iris-versicolor']['PetalWidthCm'])\n",
    "ax[1].scatter(data[data['Species']=='Iris-virginica']['PetalLengthCm'],data[data['Species']=='Iris-virginica']['PetalWidthCm'])\n",
    "\n",
    "ax[0].set(title='K Means ', ylabel='Petal Width',xlabel='SPetal Length')\n",
    "ax[1].set(title='Actual data',  ylabel='Petal Width',xlabel='SPetal Length')"
   ]
  }
 ],
 "metadata": {
  "kernelspec": {
   "display_name": "Python 3",
   "language": "python",
   "name": "python3"
  },
  "language_info": {
   "codemirror_mode": {
    "name": "ipython",
    "version": 3
   },
   "file_extension": ".py",
   "mimetype": "text/x-python",
   "name": "python",
   "nbconvert_exporter": "python",
   "pygments_lexer": "ipython3",
   "version": "3.8.8"
  },
  "toc": {
   "base_numbering": 1,
   "nav_menu": {},
   "number_sections": true,
   "sideBar": true,
   "skip_h1_title": false,
   "title_cell": "Table of Contents",
   "title_sidebar": "Contents",
   "toc_cell": false,
   "toc_position": {},
   "toc_section_display": true,
   "toc_window_display": false
  },
  "varInspector": {
   "cols": {
    "lenName": 16,
    "lenType": 16,
    "lenVar": 40
   },
   "kernels_config": {
    "python": {
     "delete_cmd_postfix": "",
     "delete_cmd_prefix": "del ",
     "library": "var_list.py",
     "varRefreshCmd": "print(var_dic_list())"
    },
    "r": {
     "delete_cmd_postfix": ") ",
     "delete_cmd_prefix": "rm(",
     "library": "var_list.r",
     "varRefreshCmd": "cat(var_dic_list()) "
    }
   },
   "types_to_exclude": [
    "module",
    "function",
    "builtin_function_or_method",
    "instance",
    "_Feature"
   ],
   "window_display": false
  }
 },
 "nbformat": 4,
 "nbformat_minor": 5
}
