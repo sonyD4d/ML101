{
 "cells": [
  {
   "cell_type": "markdown",
   "metadata": {},
   "source": [
    "<b><u>Probability with multiple features</u></b>"
   ]
  },
  {
   "cell_type": "markdown",
   "metadata": {},
   "source": [
    "## Data"
   ]
  },
  {
   "cell_type": "code",
   "execution_count": 1,
   "metadata": {
    "scrolled": false
   },
   "outputs": [
    {
     "data": {
      "text/html": [
       "<div>\n",
       "<style scoped>\n",
       "    .dataframe tbody tr th:only-of-type {\n",
       "        vertical-align: middle;\n",
       "    }\n",
       "\n",
       "    .dataframe tbody tr th {\n",
       "        vertical-align: top;\n",
       "    }\n",
       "\n",
       "    .dataframe thead th {\n",
       "        text-align: right;\n",
       "    }\n",
       "</style>\n",
       "<table border=\"1\" class=\"dataframe\">\n",
       "  <thead>\n",
       "    <tr style=\"text-align: right;\">\n",
       "      <th></th>\n",
       "      <th>Chills</th>\n",
       "      <th>Runny nose</th>\n",
       "      <th>headache</th>\n",
       "      <th>fever</th>\n",
       "      <th>flu</th>\n",
       "    </tr>\n",
       "  </thead>\n",
       "  <tbody>\n",
       "    <tr>\n",
       "      <th>0</th>\n",
       "      <td>Y</td>\n",
       "      <td>N</td>\n",
       "      <td>MILD</td>\n",
       "      <td>Y</td>\n",
       "      <td>N</td>\n",
       "    </tr>\n",
       "    <tr>\n",
       "      <th>1</th>\n",
       "      <td>Y</td>\n",
       "      <td>Y</td>\n",
       "      <td>NO</td>\n",
       "      <td>N</td>\n",
       "      <td>Y</td>\n",
       "    </tr>\n",
       "    <tr>\n",
       "      <th>2</th>\n",
       "      <td>Y</td>\n",
       "      <td>N</td>\n",
       "      <td>STRONG</td>\n",
       "      <td>Y</td>\n",
       "      <td>Y</td>\n",
       "    </tr>\n",
       "    <tr>\n",
       "      <th>3</th>\n",
       "      <td>N</td>\n",
       "      <td>Y</td>\n",
       "      <td>MILD</td>\n",
       "      <td>Y</td>\n",
       "      <td>Y</td>\n",
       "    </tr>\n",
       "    <tr>\n",
       "      <th>4</th>\n",
       "      <td>N</td>\n",
       "      <td>N</td>\n",
       "      <td>NO</td>\n",
       "      <td>N</td>\n",
       "      <td>N</td>\n",
       "    </tr>\n",
       "    <tr>\n",
       "      <th>5</th>\n",
       "      <td>N</td>\n",
       "      <td>Y</td>\n",
       "      <td>STRONG</td>\n",
       "      <td>Y</td>\n",
       "      <td>Y</td>\n",
       "    </tr>\n",
       "    <tr>\n",
       "      <th>6</th>\n",
       "      <td>N</td>\n",
       "      <td>Y</td>\n",
       "      <td>STRONG</td>\n",
       "      <td>N</td>\n",
       "      <td>N</td>\n",
       "    </tr>\n",
       "    <tr>\n",
       "      <th>7</th>\n",
       "      <td>Y</td>\n",
       "      <td>Y</td>\n",
       "      <td>MILD</td>\n",
       "      <td>Y</td>\n",
       "      <td>Y</td>\n",
       "    </tr>\n",
       "  </tbody>\n",
       "</table>\n",
       "</div>"
      ],
      "text/plain": [
       "  Chills Runny nose headache fever flu\n",
       "0      Y          N     MILD     Y   N\n",
       "1      Y          Y       NO     N   Y\n",
       "2      Y          N   STRONG     Y   Y\n",
       "3      N          Y     MILD     Y   Y\n",
       "4      N          N       NO     N   N\n",
       "5      N          Y   STRONG     Y   Y\n",
       "6      N          Y   STRONG     N   N\n",
       "7      Y          Y     MILD     Y   Y"
      ]
     },
     "execution_count": 1,
     "metadata": {},
     "output_type": "execute_result"
    }
   ],
   "source": [
    "import pandas as pd\n",
    "prob_table = pd.read_csv('prob.csv')\n",
    "prob_table"
   ]
  },
  {
   "cell_type": "markdown",
   "metadata": {},
   "source": [
    "## Identifying class and features"
   ]
  },
  {
   "cell_type": "code",
   "execution_count": 2,
   "metadata": {},
   "outputs": [
    {
     "name": "stdout",
     "output_type": "stream",
     "text": [
      "Class : ['N', 'Y']\n",
      "Features :  {'Chills': ['N', 'Y'], 'Runny nose': ['N', 'Y'], 'headache': ['MILD', 'STRONG', 'NO'], 'fever': ['N', 'Y']}\n"
     ]
    }
   ],
   "source": [
    "record_count = prob_table.shape[0]\n",
    "\n",
    "class_list = list(prob_table[prob_table.columns[-1]])\n",
    "class_set = list(set(class_list))\n",
    "\n",
    "features = list(prob_table.columns[0:-1])\n",
    "feature_dict_set = dict()\n",
    "feature_dict_list = dict()\n",
    "for i in features:\n",
    "    feature_dict_set[i] = list(set(prob_table[i]))\n",
    "    feature_dict_list[i] = list(prob_table[i])\n",
    "\n",
    "\n",
    "print( \"Class : \" + str(class_set) )\n",
    "print( \"Features :  \" + str(feature_dict_set) )"
   ]
  },
  {
   "cell_type": "code",
   "execution_count": 3,
   "metadata": {},
   "outputs": [
    {
     "data": {
      "text/plain": [
       "{'Chills': ['Y', 'Y', 'Y', 'N', 'N', 'N', 'N', 'Y'],\n",
       " 'Runny nose': ['N', 'Y', 'N', 'Y', 'N', 'Y', 'Y', 'Y'],\n",
       " 'headache': ['MILD',\n",
       "  'NO',\n",
       "  'STRONG',\n",
       "  'MILD',\n",
       "  'NO',\n",
       "  'STRONG',\n",
       "  'STRONG',\n",
       "  'MILD'],\n",
       " 'fever': ['Y', 'N', 'Y', 'Y', 'N', 'Y', 'N', 'Y']}"
      ]
     },
     "execution_count": 3,
     "metadata": {},
     "output_type": "execute_result"
    }
   ],
   "source": [
    "feature_dict_list"
   ]
  },
  {
   "cell_type": "markdown",
   "metadata": {},
   "source": [
    "## p(class)"
   ]
  },
  {
   "cell_type": "code",
   "execution_count": 4,
   "metadata": {},
   "outputs": [
    {
     "data": {
      "text/plain": [
       "{'N': 0.375, 'Y': 0.625}"
      ]
     },
     "execution_count": 4,
     "metadata": {},
     "output_type": "execute_result"
    }
   ],
   "source": [
    "class_probability = dict()\n",
    "for c in class_set:\n",
    "    count = list(class_list).count(c)\n",
    "    class_probability[c] = (count/record_count)\n",
    "class_probability"
   ]
  },
  {
   "cell_type": "markdown",
   "metadata": {},
   "source": [
    "## p(feature /class)"
   ]
  },
  {
   "cell_type": "code",
   "execution_count": 5,
   "metadata": {},
   "outputs": [
    {
     "data": {
      "text/plain": [
       "{'Chills=N/N': 0.6666666666666666,\n",
       " 'Chills=Y/N': 0.3333333333333333,\n",
       " 'Runny nose=N/N': 0.6666666666666666,\n",
       " 'Runny nose=Y/N': 0.3333333333333333,\n",
       " 'headache=MILD/N': 0.3333333333333333,\n",
       " 'headache=STRONG/N': 0.3333333333333333,\n",
       " 'headache=NO/N': 0.3333333333333333,\n",
       " 'fever=N/N': 0.6666666666666666,\n",
       " 'fever=Y/N': 0.3333333333333333,\n",
       " 'Chills=N/Y': 0.4,\n",
       " 'Chills=Y/Y': 0.6,\n",
       " 'Runny nose=N/Y': 0.2,\n",
       " 'Runny nose=Y/Y': 0.8,\n",
       " 'headache=MILD/Y': 0.4,\n",
       " 'headache=STRONG/Y': 0.4,\n",
       " 'headache=NO/Y': 0.2,\n",
       " 'fever=N/Y': 0.2,\n",
       " 'fever=Y/Y': 0.8}"
      ]
     },
     "execution_count": 5,
     "metadata": {},
     "output_type": "execute_result"
    }
   ],
   "source": [
    "fc_probability = dict()\n",
    "for c in class_set:\n",
    "    for f in feature_dict_set:\n",
    "        for f_value in feature_dict_set[f]:\n",
    "            fc_count = 0\n",
    "            for i in range(record_count):\n",
    "                if( class_list[i] == c and feature_dict_list[f][i] == f_value ):\n",
    "                    fc_count += 1  \n",
    "            fc_probability[str(f)+'='+str(f_value)+'/'+str(c)] = fc_count/class_list.count(c)\n",
    "fc_probability"
   ]
  },
  {
   "cell_type": "markdown",
   "metadata": {},
   "source": [
    "## Testing"
   ]
  },
  {
   "cell_type": "markdown",
   "metadata": {},
   "source": [
    "    Chills = Y\n",
    "    Runny nose = N\n",
    "    headache = MILD\n",
    "    Fever = N\n",
    "    Flu = ?"
   ]
  },
  {
   "cell_type": "code",
   "execution_count": 6,
   "metadata": {},
   "outputs": [],
   "source": [
    "def predict(data):\n",
    "    final_prob = dict()\n",
    "    for i in class_set:\n",
    "        final_prob[i] = class_probability[i]\n",
    "        for f in range(len(features)):\n",
    "            final_prob[i] *= fc_probability[features[f]+'='+data[f]+'/'+i]\n",
    "    return final_prob"
   ]
  },
  {
   "cell_type": "code",
   "execution_count": 7,
   "metadata": {},
   "outputs": [
    {
     "data": {
      "text/plain": [
       "{'Chills': ['N', 'Y'],\n",
       " 'Runny nose': ['N', 'Y'],\n",
       " 'headache': ['MILD', 'STRONG', 'NO'],\n",
       " 'fever': ['N', 'Y']}"
      ]
     },
     "execution_count": 7,
     "metadata": {},
     "output_type": "execute_result"
    }
   ],
   "source": [
    "feature_dict_set"
   ]
  },
  {
   "cell_type": "code",
   "execution_count": 8,
   "metadata": {},
   "outputs": [
    {
     "name": "stdout",
     "output_type": "stream",
     "text": [
      "N\n"
     ]
    }
   ],
   "source": [
    "prob = predict(['Y','N','MILD','N'])\n",
    "answer = max(prob, key=prob.get)\n",
    "print(answer)"
   ]
  }
 ],
 "metadata": {
  "hide_input": false,
  "kernelspec": {
   "display_name": "Python 3",
   "language": "python",
   "name": "python3"
  },
  "language_info": {
   "codemirror_mode": {
    "name": "ipython",
    "version": 3
   },
   "file_extension": ".py",
   "mimetype": "text/x-python",
   "name": "python",
   "nbconvert_exporter": "python",
   "pygments_lexer": "ipython3",
   "version": "3.8.10"
  },
  "toc": {
   "base_numbering": 1,
   "nav_menu": {},
   "number_sections": true,
   "sideBar": true,
   "skip_h1_title": false,
   "title_cell": "Table of Contents",
   "title_sidebar": "Contents",
   "toc_cell": false,
   "toc_position": {},
   "toc_section_display": true,
   "toc_window_display": false
  },
  "varInspector": {
   "cols": {
    "lenName": 16,
    "lenType": 16,
    "lenVar": 40
   },
   "kernels_config": {
    "python": {
     "delete_cmd_postfix": "",
     "delete_cmd_prefix": "del ",
     "library": "var_list.py",
     "varRefreshCmd": "print(var_dic_list())"
    },
    "r": {
     "delete_cmd_postfix": ") ",
     "delete_cmd_prefix": "rm(",
     "library": "var_list.r",
     "varRefreshCmd": "cat(var_dic_list()) "
    }
   },
   "types_to_exclude": [
    "module",
    "function",
    "builtin_function_or_method",
    "instance",
    "_Feature"
   ],
   "window_display": false
  }
 },
 "nbformat": 4,
 "nbformat_minor": 4
}
