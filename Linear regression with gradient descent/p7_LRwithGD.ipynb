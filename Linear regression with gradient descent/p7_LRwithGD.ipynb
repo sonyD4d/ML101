{
 "cells": [
  {
   "cell_type": "code",
   "execution_count": 111,
   "id": "7f8e4605",
   "metadata": {},
   "outputs": [],
   "source": [
    "import pandas as pd\n",
    "import numpy as np\n",
    "import matplotlib.pyplot as plt\n",
    "plt.style.use('seaborn-white')"
   ]
  },
  {
   "cell_type": "markdown",
   "id": "05bb5273",
   "metadata": {},
   "source": [
    "## Dataset : Paris Housing Price Prediction\n",
    "\n",
    "    - src : https://www.kaggle.com/mssmartypants/paris-housing-price-prediction\n",
    "    - This is a set of data created from imaginary data of house prices in an urban environment - Paris\n",
    "    - All attributes are numeric variables and they are listed bellow:\n",
    "            squareMeters\n",
    "            numberOfRooms\n",
    "            hasYard\n",
    "            hasPool\n",
    "            floors - number of floors\n",
    "            cityCode - zip code\n",
    "            cityPartRange - the higher the range, the more exclusive the neighbourhood is\n",
    "            numPrevOwners - number of prevoious owners\n",
    "            made - year\n",
    "            isNewBuilt\n",
    "            hasStormProtector\n",
    "            basement - basement square meters\n",
    "            attic - attic square meteres\n",
    "            garage - garage size\n",
    "            hasStorageRoom\n",
    "            hasGuestRoom - number of guest rooms\n",
    "price - predicted value"
   ]
  },
  {
   "cell_type": "code",
   "execution_count": 112,
   "id": "65869b44",
   "metadata": {
    "scrolled": true
   },
   "outputs": [
    {
     "data": {
      "text/plain": [
       "(10000, 17)"
      ]
     },
     "execution_count": 112,
     "metadata": {},
     "output_type": "execute_result"
    }
   ],
   "source": [
    "data = pd.read_csv('./data/ParisHousing.csv')\n",
    "data.shape"
   ]
  },
  {
   "cell_type": "code",
   "execution_count": 113,
   "id": "134f47bd",
   "metadata": {
    "scrolled": true
   },
   "outputs": [
    {
     "data": {
      "text/html": [
       "<div>\n",
       "<style scoped>\n",
       "    .dataframe tbody tr th:only-of-type {\n",
       "        vertical-align: middle;\n",
       "    }\n",
       "\n",
       "    .dataframe tbody tr th {\n",
       "        vertical-align: top;\n",
       "    }\n",
       "\n",
       "    .dataframe thead th {\n",
       "        text-align: right;\n",
       "    }\n",
       "</style>\n",
       "<table border=\"1\" class=\"dataframe\">\n",
       "  <thead>\n",
       "    <tr style=\"text-align: right;\">\n",
       "      <th></th>\n",
       "      <th>squareMeters</th>\n",
       "      <th>numberOfRooms</th>\n",
       "      <th>hasYard</th>\n",
       "      <th>hasPool</th>\n",
       "      <th>floors</th>\n",
       "      <th>cityCode</th>\n",
       "      <th>cityPartRange</th>\n",
       "      <th>numPrevOwners</th>\n",
       "      <th>made</th>\n",
       "      <th>isNewBuilt</th>\n",
       "      <th>hasStormProtector</th>\n",
       "      <th>basement</th>\n",
       "      <th>attic</th>\n",
       "      <th>garage</th>\n",
       "      <th>hasStorageRoom</th>\n",
       "      <th>hasGuestRoom</th>\n",
       "      <th>price</th>\n",
       "    </tr>\n",
       "  </thead>\n",
       "  <tbody>\n",
       "    <tr>\n",
       "      <th>0</th>\n",
       "      <td>75523</td>\n",
       "      <td>3</td>\n",
       "      <td>0</td>\n",
       "      <td>1</td>\n",
       "      <td>63</td>\n",
       "      <td>9373</td>\n",
       "      <td>3</td>\n",
       "      <td>8</td>\n",
       "      <td>2005</td>\n",
       "      <td>0</td>\n",
       "      <td>1</td>\n",
       "      <td>4313</td>\n",
       "      <td>9005</td>\n",
       "      <td>956</td>\n",
       "      <td>0</td>\n",
       "      <td>7</td>\n",
       "      <td>7559081.5</td>\n",
       "    </tr>\n",
       "    <tr>\n",
       "      <th>1</th>\n",
       "      <td>80771</td>\n",
       "      <td>39</td>\n",
       "      <td>1</td>\n",
       "      <td>1</td>\n",
       "      <td>98</td>\n",
       "      <td>39381</td>\n",
       "      <td>8</td>\n",
       "      <td>6</td>\n",
       "      <td>2015</td>\n",
       "      <td>1</td>\n",
       "      <td>0</td>\n",
       "      <td>3653</td>\n",
       "      <td>2436</td>\n",
       "      <td>128</td>\n",
       "      <td>1</td>\n",
       "      <td>2</td>\n",
       "      <td>8085989.5</td>\n",
       "    </tr>\n",
       "    <tr>\n",
       "      <th>2</th>\n",
       "      <td>55712</td>\n",
       "      <td>58</td>\n",
       "      <td>0</td>\n",
       "      <td>1</td>\n",
       "      <td>19</td>\n",
       "      <td>34457</td>\n",
       "      <td>6</td>\n",
       "      <td>8</td>\n",
       "      <td>2021</td>\n",
       "      <td>0</td>\n",
       "      <td>0</td>\n",
       "      <td>2937</td>\n",
       "      <td>8852</td>\n",
       "      <td>135</td>\n",
       "      <td>1</td>\n",
       "      <td>9</td>\n",
       "      <td>5574642.1</td>\n",
       "    </tr>\n",
       "    <tr>\n",
       "      <th>3</th>\n",
       "      <td>32316</td>\n",
       "      <td>47</td>\n",
       "      <td>0</td>\n",
       "      <td>0</td>\n",
       "      <td>6</td>\n",
       "      <td>27939</td>\n",
       "      <td>10</td>\n",
       "      <td>4</td>\n",
       "      <td>2012</td>\n",
       "      <td>0</td>\n",
       "      <td>1</td>\n",
       "      <td>659</td>\n",
       "      <td>7141</td>\n",
       "      <td>359</td>\n",
       "      <td>0</td>\n",
       "      <td>3</td>\n",
       "      <td>3232561.2</td>\n",
       "    </tr>\n",
       "    <tr>\n",
       "      <th>4</th>\n",
       "      <td>70429</td>\n",
       "      <td>19</td>\n",
       "      <td>1</td>\n",
       "      <td>1</td>\n",
       "      <td>90</td>\n",
       "      <td>38045</td>\n",
       "      <td>3</td>\n",
       "      <td>7</td>\n",
       "      <td>1990</td>\n",
       "      <td>1</td>\n",
       "      <td>0</td>\n",
       "      <td>8435</td>\n",
       "      <td>2429</td>\n",
       "      <td>292</td>\n",
       "      <td>1</td>\n",
       "      <td>4</td>\n",
       "      <td>7055052.0</td>\n",
       "    </tr>\n",
       "    <tr>\n",
       "      <th>5</th>\n",
       "      <td>39223</td>\n",
       "      <td>36</td>\n",
       "      <td>0</td>\n",
       "      <td>1</td>\n",
       "      <td>17</td>\n",
       "      <td>39489</td>\n",
       "      <td>8</td>\n",
       "      <td>6</td>\n",
       "      <td>2012</td>\n",
       "      <td>0</td>\n",
       "      <td>1</td>\n",
       "      <td>2009</td>\n",
       "      <td>4552</td>\n",
       "      <td>757</td>\n",
       "      <td>0</td>\n",
       "      <td>1</td>\n",
       "      <td>3926647.2</td>\n",
       "    </tr>\n",
       "    <tr>\n",
       "      <th>6</th>\n",
       "      <td>58682</td>\n",
       "      <td>10</td>\n",
       "      <td>1</td>\n",
       "      <td>1</td>\n",
       "      <td>99</td>\n",
       "      <td>6450</td>\n",
       "      <td>10</td>\n",
       "      <td>9</td>\n",
       "      <td>1995</td>\n",
       "      <td>1</td>\n",
       "      <td>1</td>\n",
       "      <td>5930</td>\n",
       "      <td>9453</td>\n",
       "      <td>848</td>\n",
       "      <td>0</td>\n",
       "      <td>5</td>\n",
       "      <td>5876376.5</td>\n",
       "    </tr>\n",
       "    <tr>\n",
       "      <th>7</th>\n",
       "      <td>86929</td>\n",
       "      <td>100</td>\n",
       "      <td>1</td>\n",
       "      <td>0</td>\n",
       "      <td>11</td>\n",
       "      <td>98155</td>\n",
       "      <td>3</td>\n",
       "      <td>4</td>\n",
       "      <td>2003</td>\n",
       "      <td>1</td>\n",
       "      <td>0</td>\n",
       "      <td>6326</td>\n",
       "      <td>4748</td>\n",
       "      <td>654</td>\n",
       "      <td>0</td>\n",
       "      <td>10</td>\n",
       "      <td>8696869.3</td>\n",
       "    </tr>\n",
       "    <tr>\n",
       "      <th>8</th>\n",
       "      <td>51522</td>\n",
       "      <td>3</td>\n",
       "      <td>0</td>\n",
       "      <td>0</td>\n",
       "      <td>61</td>\n",
       "      <td>9047</td>\n",
       "      <td>8</td>\n",
       "      <td>3</td>\n",
       "      <td>2012</td>\n",
       "      <td>1</td>\n",
       "      <td>1</td>\n",
       "      <td>632</td>\n",
       "      <td>5792</td>\n",
       "      <td>807</td>\n",
       "      <td>1</td>\n",
       "      <td>5</td>\n",
       "      <td>5154055.2</td>\n",
       "    </tr>\n",
       "    <tr>\n",
       "      <th>9</th>\n",
       "      <td>39686</td>\n",
       "      <td>42</td>\n",
       "      <td>0</td>\n",
       "      <td>0</td>\n",
       "      <td>15</td>\n",
       "      <td>71019</td>\n",
       "      <td>5</td>\n",
       "      <td>8</td>\n",
       "      <td>2021</td>\n",
       "      <td>1</td>\n",
       "      <td>1</td>\n",
       "      <td>5198</td>\n",
       "      <td>5342</td>\n",
       "      <td>591</td>\n",
       "      <td>1</td>\n",
       "      <td>3</td>\n",
       "      <td>3970892.1</td>\n",
       "    </tr>\n",
       "  </tbody>\n",
       "</table>\n",
       "</div>"
      ],
      "text/plain": [
       "   squareMeters  numberOfRooms  hasYard  hasPool  floors  cityCode  \\\n",
       "0         75523              3        0        1      63      9373   \n",
       "1         80771             39        1        1      98     39381   \n",
       "2         55712             58        0        1      19     34457   \n",
       "3         32316             47        0        0       6     27939   \n",
       "4         70429             19        1        1      90     38045   \n",
       "5         39223             36        0        1      17     39489   \n",
       "6         58682             10        1        1      99      6450   \n",
       "7         86929            100        1        0      11     98155   \n",
       "8         51522              3        0        0      61      9047   \n",
       "9         39686             42        0        0      15     71019   \n",
       "\n",
       "   cityPartRange  numPrevOwners  made  isNewBuilt  hasStormProtector  \\\n",
       "0              3              8  2005           0                  1   \n",
       "1              8              6  2015           1                  0   \n",
       "2              6              8  2021           0                  0   \n",
       "3             10              4  2012           0                  1   \n",
       "4              3              7  1990           1                  0   \n",
       "5              8              6  2012           0                  1   \n",
       "6             10              9  1995           1                  1   \n",
       "7              3              4  2003           1                  0   \n",
       "8              8              3  2012           1                  1   \n",
       "9              5              8  2021           1                  1   \n",
       "\n",
       "   basement  attic  garage  hasStorageRoom  hasGuestRoom      price  \n",
       "0      4313   9005     956               0             7  7559081.5  \n",
       "1      3653   2436     128               1             2  8085989.5  \n",
       "2      2937   8852     135               1             9  5574642.1  \n",
       "3       659   7141     359               0             3  3232561.2  \n",
       "4      8435   2429     292               1             4  7055052.0  \n",
       "5      2009   4552     757               0             1  3926647.2  \n",
       "6      5930   9453     848               0             5  5876376.5  \n",
       "7      6326   4748     654               0            10  8696869.3  \n",
       "8       632   5792     807               1             5  5154055.2  \n",
       "9      5198   5342     591               1             3  3970892.1  "
      ]
     },
     "execution_count": 113,
     "metadata": {},
     "output_type": "execute_result"
    }
   ],
   "source": [
    "data.head(10)"
   ]
  },
  {
   "cell_type": "code",
   "execution_count": 114,
   "id": "b68369f2",
   "metadata": {},
   "outputs": [
    {
     "data": {
      "text/plain": [
       "array([[<AxesSubplot:title={'center':'squareMeters'}>,\n",
       "        <AxesSubplot:title={'center':'numberOfRooms'}>,\n",
       "        <AxesSubplot:title={'center':'hasYard'}>,\n",
       "        <AxesSubplot:title={'center':'hasPool'}>],\n",
       "       [<AxesSubplot:title={'center':'floors'}>,\n",
       "        <AxesSubplot:title={'center':'cityCode'}>,\n",
       "        <AxesSubplot:title={'center':'cityPartRange'}>,\n",
       "        <AxesSubplot:title={'center':'numPrevOwners'}>],\n",
       "       [<AxesSubplot:title={'center':'made'}>,\n",
       "        <AxesSubplot:title={'center':'isNewBuilt'}>,\n",
       "        <AxesSubplot:title={'center':'hasStormProtector'}>,\n",
       "        <AxesSubplot:title={'center':'basement'}>],\n",
       "       [<AxesSubplot:title={'center':'attic'}>,\n",
       "        <AxesSubplot:title={'center':'garage'}>,\n",
       "        <AxesSubplot:title={'center':'hasStorageRoom'}>,\n",
       "        <AxesSubplot:title={'center':'hasGuestRoom'}>],\n",
       "       [<AxesSubplot:title={'center':'price'}>, <AxesSubplot:>,\n",
       "        <AxesSubplot:>, <AxesSubplot:>]], dtype=object)"
      ]
     },
     "execution_count": 114,
     "metadata": {},
     "output_type": "execute_result"
    },
    {
     "data": {
      "image/png": "[encoded data removed]",
      "text/plain": [
       "<Figure size 720x720 with 20 Axes>"
      ]
     },
     "metadata": {},
     "output_type": "display_data"
    }
   ],
   "source": [
    "data.hist(figsize=(10,10))"
   ]
  },
  {
   "cell_type": "code",
   "execution_count": 115,
   "id": "12d2f5a3",
   "metadata": {
    "scrolled": false
   },
   "outputs": [
    {
     "data": {
      "text/plain": [
       "squareMeters         0.999999\n",
       "numberOfRooms        0.009591\n",
       "hasYard             -0.006119\n",
       "hasPool             -0.005070\n",
       "floors               0.001654\n",
       "cityCode            -0.001539\n",
       "cityPartRange        0.008813\n",
       "numPrevOwners        0.016619\n",
       "made                -0.007210\n",
       "isNewBuilt          -0.010643\n",
       "hasStormProtector    0.007496\n",
       "basement            -0.003967\n",
       "attic               -0.000600\n",
       "garage              -0.017229\n",
       "hasStorageRoom      -0.003485\n",
       "hasGuestRoom        -0.000644\n",
       "price                1.000000\n",
       "Name: price, dtype: float64"
      ]
     },
     "execution_count": 115,
     "metadata": {},
     "output_type": "execute_result"
    }
   ],
   "source": [
    "data.corr(method='pearson')['price']"
   ]
  },
  {
   "cell_type": "code",
   "execution_count": 116,
   "id": "2883ece2",
   "metadata": {},
   "outputs": [],
   "source": [
    "data = data.drop(columns=['attic'])"
   ]
  },
  {
   "cell_type": "code",
   "execution_count": 117,
   "id": "de685816",
   "metadata": {
    "scrolled": true
   },
   "outputs": [
    {
     "data": {
      "text/plain": [
       "Index(['squareMeters', 'numberOfRooms', 'hasYard', 'hasPool', 'floors',\n",
       "       'cityCode', 'cityPartRange', 'numPrevOwners', 'made', 'isNewBuilt',\n",
       "       'hasStormProtector', 'basement', 'garage', 'hasStorageRoom',\n",
       "       'hasGuestRoom', 'price'],\n",
       "      dtype='object')"
      ]
     },
     "execution_count": 117,
     "metadata": {},
     "output_type": "execute_result"
    }
   ],
   "source": [
    "data.columns"
   ]
  },
  {
   "cell_type": "code",
   "execution_count": 118,
   "id": "f3fbc2db",
   "metadata": {},
   "outputs": [],
   "source": [
    "x = np.array(data.iloc[:,:-1].values)\n",
    "x = np.hstack((np.ones((data.shape[0],1)), x)) #for theta0 x0=1\n",
    "y = np.array(data['price'])"
   ]
  },
  {
   "cell_type": "code",
   "execution_count": 119,
   "id": "db87a934",
   "metadata": {
    "scrolled": true
   },
   "outputs": [
    {
     "data": {
      "text/plain": [
       "(array([1.0000e+00, 7.5523e+04, 3.0000e+00, 0.0000e+00, 1.0000e+00,\n",
       "        6.3000e+01, 9.3730e+03, 3.0000e+00, 8.0000e+00, 2.0050e+03,\n",
       "        0.0000e+00, 1.0000e+00, 4.3130e+03, 9.5600e+02, 0.0000e+00,\n",
       "        7.0000e+00]),\n",
       " 7559081.5)"
      ]
     },
     "execution_count": 119,
     "metadata": {},
     "output_type": "execute_result"
    }
   ],
   "source": [
    "x[0],y[0]"
   ]
  },
  {
   "cell_type": "code",
   "execution_count": 120,
   "id": "ca117bef",
   "metadata": {},
   "outputs": [],
   "source": [
    "def normalize(x):\n",
    "    return x/np.max(x, axis=0),np.max(x, axis=0)\n",
    "x,temp_max = normalize(x)"
   ]
  },
  {
   "cell_type": "code",
   "execution_count": 121,
   "id": "607a1dec",
   "metadata": {
    "scrolled": false
   },
   "outputs": [
    {
     "data": {
      "text/plain": [
       "(array([1.        , 0.75523755, 0.03      , 0.        , 1.        ,\n",
       "        0.63      , 0.09377407, 0.3       , 0.8       , 0.99208313,\n",
       "        0.        , 1.        , 0.4313    , 0.956     , 0.        ,\n",
       "        0.7       ]),\n",
       " 7559081.5)"
      ]
     },
     "execution_count": 121,
     "metadata": {},
     "output_type": "execute_result"
    }
   ],
   "source": [
    "x[0],y[0]"
   ]
  },
  {
   "cell_type": "code",
   "execution_count": 122,
   "id": "31b365b7",
   "metadata": {},
   "outputs": [
    {
     "data": {
      "text/plain": [
       "array([1.0000e+00, 9.9999e+04, 1.0000e+02, 1.0000e+00, 1.0000e+00,\n",
       "       1.0000e+02, 9.9953e+04, 1.0000e+01, 1.0000e+01, 2.0210e+03,\n",
       "       1.0000e+00, 1.0000e+00, 1.0000e+04, 1.0000e+03, 1.0000e+00,\n",
       "       1.0000e+01])"
      ]
     },
     "execution_count": 122,
     "metadata": {},
     "output_type": "execute_result"
    }
   ],
   "source": [
    "temp_max"
   ]
  },
  {
   "cell_type": "code",
   "execution_count": 123,
   "id": "264425d7",
   "metadata": {},
   "outputs": [],
   "source": [
    "from sklearn.model_selection import train_test_split\n",
    "x_train, x_test, y_train, y_test = train_test_split(x, y, test_size=0.30)"
   ]
  },
  {
   "cell_type": "code",
   "execution_count": 124,
   "id": "e4d13577",
   "metadata": {},
   "outputs": [
    {
     "data": {
      "text/plain": [
       "15"
      ]
     },
     "execution_count": 124,
     "metadata": {},
     "output_type": "execute_result"
    }
   ],
   "source": [
    "n=len(x_train[0])-1\n",
    "n"
   ]
  },
  {
   "cell_type": "code",
   "execution_count": 125,
   "id": "232e523b",
   "metadata": {},
   "outputs": [
    {
     "data": {
      "text/plain": [
       "7000"
      ]
     },
     "execution_count": 125,
     "metadata": {},
     "output_type": "execute_result"
    }
   ],
   "source": [
    "m=len(x_train)\n",
    "m"
   ]
  },
  {
   "cell_type": "markdown",
   "id": "9151c28a",
   "metadata": {},
   "source": [
    "<img src=\"multivariate_algo.png\" height=70% width=70%>"
   ]
  },
  {
   "cell_type": "code",
   "execution_count": 126,
   "id": "8863c22d",
   "metadata": {},
   "outputs": [],
   "source": [
    "def gd(x, y, theta, lr, itr):\n",
    "    cost_plot = np.zeros(itr)\n",
    "    for i in range(itr):\n",
    "        y_cap = x.dot(theta)\n",
    "        e = y_cap - y\n",
    "        cost = 1 / (2 * m) * np.sum(e*e)\n",
    "        cost_plot[i] = cost\n",
    "        updated_theta = (lr / m) * x.transpose().dot(e)\n",
    "        theta = theta - updated_theta\n",
    "    plt.plot(range(1, itr + 1), cost_plot)\n",
    "    plt.grid()\n",
    "    plt.xlabel(\"iterations\")\n",
    "    plt.ylabel(\"cost\")\n",
    "    return theta"
   ]
  },
  {
   "cell_type": "code",
   "execution_count": 127,
   "id": "5ba7782c",
   "metadata": {
    "scrolled": true
   },
   "outputs": [
    {
     "data": {
      "image/png": "[encoded data removed]",
      "text/plain": [
       "<Figure size 432x288 with 1 Axes>"
      ]
     },
     "metadata": {},
     "output_type": "display_data"
    }
   ],
   "source": [
    "theta = np.zeros(n+1)\n",
    "itr = 500\n",
    "theta = gd(x_train, y_train, theta, 0.1, itr)"
   ]
  },
  {
   "cell_type": "code",
   "execution_count": 128,
   "id": "430aa55b",
   "metadata": {},
   "outputs": [
    {
     "data": {
      "text/plain": [
       "array([ 201584.21130764, 9785071.21717525,  -41923.28350121,\n",
       "        -14051.13150762,  -12761.03829541,  -49640.33610077,\n",
       "        -58355.69207832,  -57220.33984346,  -49946.90874747,\n",
       "        199400.34644051,  -15817.12264282,  -14172.20214017,\n",
       "        -67135.19151601,  -94762.107097  ,  -13049.90538809,\n",
       "        -47580.43247783])"
      ]
     },
     "execution_count": 128,
     "metadata": {},
     "output_type": "execute_result"
    }
   ],
   "source": [
    "theta"
   ]
  },
  {
   "cell_type": "code",
   "execution_count": 129,
   "id": "4bc7313e",
   "metadata": {},
   "outputs": [],
   "source": [
    "y_pred = list()\n",
    "for i in range(len(x_test)):\n",
    "    y_pred.append(theta.dot(x_test[i]))"
   ]
  },
  {
   "cell_type": "code",
   "execution_count": 130,
   "id": "3450c780",
   "metadata": {},
   "outputs": [
    {
     "data": {
      "image/png": "[encoded data removed]",
      "text/plain": [
       "<Figure size 432x288 with 1 Axes>"
      ]
     },
     "metadata": {},
     "output_type": "display_data"
    }
   ],
   "source": [
    "plt.figure()\n",
    "plt.plot(range(20), y_pred[0:20], 'r', label=\"y_cap\")\n",
    "plt.plot(range(20), y_test[0:20], 'b', label=\"y\")\n",
    "plt.legend()\n",
    "plt.xlabel(\"Examples\")\n",
    "plt.ylabel(\"Price\")\n",
    "plt.show()"
   ]
  },
  {
   "cell_type": "code",
   "execution_count": 131,
   "id": "1be09cbb",
   "metadata": {
    "scrolled": true
   },
   "outputs": [
    {
     "name": "stdout",
     "output_type": "stream",
     "text": [
      "7405119.227585909\t7483945.9\n",
      "7652270.238075688\t7667431.3\n",
      "2156991.3161879014\t2030464.6\n",
      "991562.9134331883\t875920.6\n",
      "6439473.362920426\t6456934.5\n",
      "4526161.896231256\t4450503.3\n",
      "449297.5354039193\t404625.7\n",
      "5949528.389497315\t6024280.0\n",
      "5333340.835541538\t5371947.3\n",
      "2523768.7263426157\t2474395.5\n",
      "8821848.274657784\t8887849.4\n",
      "4666349.755186205\t4707409.7\n",
      "4371037.3270085035\t4383378.7\n",
      "6569305.795172753\t6588632.6\n",
      "1682285.7175469717\t1606948.7\n",
      "2561091.4323901106\t2454663.5\n",
      "1966448.383547669\t1939172.3\n",
      "6712365.96637049\t6677649.1\n",
      "5445214.07647757\t5494411.8\n"
     ]
    }
   ],
   "source": [
    "for i in range(1,20):\n",
    "    print(str(y_pred[i])+\"\\t\"+str(y_test[i]))"
   ]
  },
  {
   "cell_type": "markdown",
   "id": "e34f5dd0",
   "metadata": {},
   "source": [
    "<img src=\"reg.JPG\" height=70% width=70%>"
   ]
  },
  {
   "cell_type": "code",
   "execution_count": 132,
   "id": "208668d2",
   "metadata": {},
   "outputs": [],
   "source": [
    "def gd_r(x, y, theta, lr, itr , lambda_value):\n",
    "    cost_plot = np.zeros(itr)\n",
    "    theta_0 = theta[0]\n",
    "    theta_1_n = theta[1:]\n",
    "    for i in range(itr):\n",
    "        y_cap = x.dot(theta)\n",
    "        e = y_cap - y\n",
    "        cost = 1 / (2 * m) * np.sum(e*e)\n",
    "        cost_plot[i] = cost\n",
    "        updated_theta_0 = (lr / m) * (x[:,0].dot(e))\n",
    "        updated_theta_1_n = (lr / m) * ( (((x[:,1:]).transpose()).dot(e)) + ((lambda_value/m) * theta_1_n) )\n",
    "        theta = theta - np.hstack((updated_theta_0, updated_theta_1_n))\n",
    "    plt.plot(range(1, itr + 1), cost_plot)\n",
    "    plt.grid()\n",
    "    plt.xlabel(\"iterations\")\n",
    "    plt.ylabel(\"cost\")\n",
    "    return theta"
   ]
  },
  {
   "cell_type": "code",
   "execution_count": 133,
   "id": "eee121cb",
   "metadata": {
    "scrolled": true
   },
   "outputs": [
    {
     "data": {
      "image/png": "[encoded data removed]",
      "text/plain": [
       "<Figure size 432x288 with 1 Axes>"
      ]
     },
     "metadata": {},
     "output_type": "display_data"
    }
   ],
   "source": [
    "theta_r = gd_r(x_train, y_train, theta, 0.1, 1000,0.2)"
   ]
  },
  {
   "cell_type": "code",
   "execution_count": 139,
   "id": "142135bb",
   "metadata": {},
   "outputs": [
    {
     "data": {
      "text/plain": [
       "array([ 6.89661881e+03,  9.99746216e+06, -2.04197309e+03,  2.50151252e+03,\n",
       "        2.50199203e+03,  3.25549527e+03, -2.27395285e+03, -2.05252177e+03,\n",
       "       -2.31281380e+03,  6.16421515e+03, -3.49527348e+02, -3.52515333e+02,\n",
       "       -2.61626756e+03, -3.39951180e+03, -3.12073992e+02, -2.03773057e+03])"
      ]
     },
     "execution_count": 139,
     "metadata": {},
     "output_type": "execute_result"
    }
   ],
   "source": [
    "theta_r"
   ]
  },
  {
   "cell_type": "code",
   "execution_count": 134,
   "id": "8d03e446",
   "metadata": {},
   "outputs": [],
   "source": [
    "y_pred_r = list()\n",
    "for i in range(len(x_test)):\n",
    "    y_pred_r.append(theta_r.dot(x_test[i]))"
   ]
  },
  {
   "cell_type": "code",
   "execution_count": 135,
   "id": "b41b0119",
   "metadata": {},
   "outputs": [
    {
     "data": {
      "image/png": "[encoded data removed]",
      "text/plain": [
       "<Figure size 432x288 with 1 Axes>"
      ]
     },
     "metadata": {},
     "output_type": "display_data"
    }
   ],
   "source": [
    "plt.figure()\n",
    "plt.plot(range(20), y_pred_r[0:20], 'r', label=\"y_cap\")\n",
    "plt.plot(range(20), y_test[0:20], 'b', label=\"y\")\n",
    "plt.legend()\n",
    "plt.xlabel(\"Examples\")\n",
    "plt.ylabel(\"Price\")\n",
    "plt.show()"
   ]
  },
  {
   "cell_type": "code",
   "execution_count": 136,
   "id": "18b1a45c",
   "metadata": {
    "scrolled": true
   },
   "outputs": [
    {
     "name": "stdout",
     "output_type": "stream",
     "text": [
      "Actual \t\tWithout regularization\tWith regularization\t diffrence without r\tdiffrence with reg\n",
      "---------------------------------------------------------------------------------------------------------\n",
      "7483945.9\t7405119.227585909\t7484260.3268732\t78826.67241409142\t-314.4268731996417\n",
      "7667431.3\t7652270.238075688\t7670049.218217534\t15161.061924312264\t-2617.9182175341994\n",
      "2030464.6\t2156991.3161879014\t2033091.0071789601\t-126526.71618790133\t-2626.407178960042\n",
      "875920.6\t991562.9134331883\t876736.0387138826\t-115642.31343318836\t-815.4387138825841\n",
      "6456934.5\t6439473.362920426\t6457752.668607149\t17461.137079574168\t-818.1686071492732\n",
      "4450503.3\t4526161.896231256\t4454091.57760458\t-75658.59623125661\t-3588.2776045799255\n",
      "404625.7\t449297.5354039193\t405549.99198451283\t-44671.83540391928\t-924.2919845128199\n",
      "6024280.0\t5949528.389497315\t6020912.987933868\t74751.61050268542\t3367.012066132389\n",
      "5371947.3\t5333340.835541538\t5375239.91652462\t38606.46445846185\t-3292.6165246199816\n",
      "2474395.5\t2523768.7263426157\t2478355.947297246\t-49373.22634261567\t-3960.4472972461954\n",
      "8887849.4\t8821848.274657784\t8890201.882319318\t66001.12534221634\t-2352.482319317758\n",
      "4707409.7\t4666349.755186205\t4703399.983713394\t41059.94481379539\t4009.7162866061553\n",
      "4383378.7\t4371037.3270085035\t4381726.938499281\t12341.372991496697\t1651.7615007190034\n",
      "6588632.6\t6569305.795172753\t6586339.621553895\t19326.804827246815\t2292.978446104564\n",
      "1606948.7\t1682285.7175469717\t1608923.576312713\t-75337.0175469718\t-1974.8763127131388\n",
      "2454663.5\t2561091.4323901106\t2456706.9879898136\t-106427.93239011057\t-2043.487989813555\n",
      "1939172.3\t1966448.383547669\t1941586.0064878075\t-27276.083547668997\t-2413.7064878074452\n",
      "6677649.1\t6712365.96637049\t6677951.029576704\t-34716.86637049075\t-301.9295767042786\n",
      "5494411.8\t5445214.07647757\t5493895.204373021\t49197.723522429354\t516.595626979135\n"
     ]
    }
   ],
   "source": [
    "print(\"Actual \\t\\tWithout regularization\\tWith regularization\\t diffrence without r\\tdiffrence with reg\")\n",
    "print(\"---------------------------------------------------------------------------------------------------------\")\n",
    "for i in range(1,20):\n",
    "    print(str(y_test[i])+\"\\t\"+str(y_pred[i])+\"\\t\"+str(y_pred_r[i])+\"\\t\"+str(y_test[i]-y_pred[i])+\"\\t\"+str(y_test[i]-y_pred_r[i]))"
   ]
  },
  {
   "cell_type": "code",
   "execution_count": 138,
   "id": "06c18298",
   "metadata": {},
   "outputs": [
    {
     "name": "stdout",
     "output_type": "stream",
     "text": [
      "7483945.9\t78826.67241409142\t-314.4268731996417\n",
      "7667431.3\t15161.061924312264\t-2617.9182175341994\n",
      "2030464.6\t-126526.71618790133\t-2626.407178960042\n",
      "875920.6\t-115642.31343318836\t-815.4387138825841\n",
      "6456934.5\t17461.137079574168\t-818.1686071492732\n",
      "4450503.3\t-75658.59623125661\t-3588.2776045799255\n",
      "404625.7\t-44671.83540391928\t-924.2919845128199\n",
      "6024280.0\t74751.61050268542\t3367.012066132389\n",
      "5371947.3\t38606.46445846185\t-3292.6165246199816\n",
      "2474395.5\t-49373.22634261567\t-3960.4472972461954\n",
      "8887849.4\t66001.12534221634\t-2352.482319317758\n",
      "4707409.7\t41059.94481379539\t4009.7162866061553\n",
      "4383378.7\t12341.372991496697\t1651.7615007190034\n",
      "6588632.6\t19326.804827246815\t2292.978446104564\n",
      "1606948.7\t-75337.0175469718\t-1974.8763127131388\n",
      "2454663.5\t-106427.93239011057\t-2043.487989813555\n",
      "1939172.3\t-27276.083547668997\t-2413.7064878074452\n",
      "6677649.1\t-34716.86637049075\t-301.9295767042786\n",
      "5494411.8\t49197.723522429354\t516.595626979135\n"
     ]
    }
   ],
   "source": [
    "for i in range(1,20):\n",
    "    print(str(y_test[i])+\"\\t\"+str(y_test[i]-y_pred[i])+\"\\t\"+str(y_test[i]-y_pred_r[i]))"
   ]
  },
  {
   "cell_type": "code",
   "execution_count": 137,
   "id": "edcad3fe",
   "metadata": {},
   "outputs": [
    {
     "data": {
      "image/png": "[encoded data removed]",
      "text/plain": [
       "<Figure size 432x288 with 1 Axes>"
      ]
     },
     "metadata": {},
     "output_type": "display_data"
    }
   ],
   "source": [
    "graph_r = list()\n",
    "graph_wr = list()\n",
    "for i in range(0,20):\n",
    "    graph_r.append(y_test[i]-y_pred_r[i])\n",
    "    graph_wr.append(y_test[i]-y_pred[i])\n",
    "plt.figure()\n",
    "plt.plot(range(20), graph_r, 'r', label=\"Regularized\")\n",
    "plt.plot(range(20), graph_wr, 'b', label=\"Without regularization\")\n",
    "plt.legend()\n",
    "plt.xlabel(\"Examples\")\n",
    "plt.ylabel(\"Price\")\n",
    "plt.show()"
   ]
  },
  {
   "cell_type": "code",
   "execution_count": null,
   "id": "e2623ab8",
   "metadata": {},
   "outputs": [],
   "source": []
  }
 ],
 "metadata": {
  "hide_input": false,
  "kernelspec": {
   "display_name": "Python 3",
   "language": "python",
   "name": "python3"
  },
  "language_info": {
   "codemirror_mode": {
    "name": "ipython",
    "version": 3
   },
   "file_extension": ".py",
   "mimetype": "text/x-python",
   "name": "python",
   "nbconvert_exporter": "python",
   "pygments_lexer": "ipython3",
   "version": "3.8.8"
  },
  "toc": {
   "base_numbering": 1,
   "nav_menu": {},
   "number_sections": true,
   "sideBar": true,
   "skip_h1_title": false,
   "title_cell": "Table of Contents",
   "title_sidebar": "Contents",
   "toc_cell": false,
   "toc_position": {},
   "toc_section_display": true,
   "toc_window_display": false
  },
  "varInspector": {
   "cols": {
    "lenName": 16,
    "lenType": 16,
    "lenVar": 40
   },
   "kernels_config": {
    "python": {
     "delete_cmd_postfix": "",
     "delete_cmd_prefix": "del ",
     "library": "var_list.py",
     "varRefreshCmd": "print(var_dic_list())"
    },
    "r": {
     "delete_cmd_postfix": ") ",
     "delete_cmd_prefix": "rm(",
     "library": "var_list.r",
     "varRefreshCmd": "cat(var_dic_list()) "
    }
   },
   "types_to_exclude": [
    "module",
    "function",
    "builtin_function_or_method",
    "instance",
    "_Feature"
   ],
   "window_display": false
  }
 },
 "nbformat": 4,
 "nbformat_minor": 5
}
